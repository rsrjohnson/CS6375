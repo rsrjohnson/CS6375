{
  "nbformat": 4,
  "nbformat_minor": 0,
  "metadata": {
    "colab": {
      "name": "assignment1.ipynb",
      "provenance": [],
      "authorship_tag": "ABX9TyOn7lzhXVWYA10dBaHtNx2b"
    },
    "kernelspec": {
      "name": "python3",
      "display_name": "Python 3"
    }
  },
  "cells": [
    {
      "cell_type": "code",
      "metadata": {
        "id": "DSU7VnvWVDch",
        "colab_type": "code",
        "colab": {}
      },
      "source": [
        "import numpy as np\n",
        "import pandas as pd\n",
        "from scipy import stats\n",
        "\n",
        "\n",
        "\n",
        "##Data and Parameters\n",
        "\n",
        "X=[3,1,0,4]\n",
        "Y=[2,2,1,3]\n",
        "\n",
        "#Initial parameters\n",
        "zeta=np.array([0,1],float)\n",
        "learning_rate=0.01\n",
        "\n",
        "\n",
        "X_v = np.array(X, float)\n",
        "Y_v=np.array(Y, float)\n",
        "\n",
        "nobs=len(X_v)\n",
        "iters=100\n",
        "X_v=np.c_[np.ones(nobs),X_v]\n",
        "error_record=[ErrorFunc(X_v,Y_v,zeta,nobs)]\n",
        "error_record_enhancement=[ErrorFunc(X_v,Y_v,zeta,nobs)]\n",
        "##Prepocessing Data\n"
      ],
      "execution_count": 377,
      "outputs": []
    },
    {
      "cell_type": "code",
      "metadata": {
        "id": "SJVcSh9XmL1N",
        "colab_type": "code",
        "colab": {}
      },
      "source": [
        "def vanilla_GD(X,Y,st,zeta,m,it):\n",
        "\n",
        "    temp=zeta    \n",
        "    n=len(X[0])\n",
        "    k=0\n",
        "    alpha_rate=st/m\n",
        "    \n",
        "    for k in range(it):\n",
        "        er=(X.dot(zeta)-Y_v).T\n",
        "        for j in range(n):\n",
        "\n",
        "            temp[j]=zeta[j]-alpha_rate*er.dot(X[:,j])\n",
        "\n",
        "        zeta=temp\n",
        "        error_record.append(ErrorFunc(X,Y,zeta,m))\n",
        "        error_step=error_record[k]-error_record[k-1]\n",
        "        if(abs(error_step)<st or error_step<0):\n",
        "          break\n",
        "\n",
        "    return zeta"
      ],
      "execution_count": 378,
      "outputs": []
    },
    {
      "cell_type": "code",
      "metadata": {
        "id": "FQy8ziKrnq_6",
        "colab_type": "code",
        "colab": {}
      },
      "source": [
        "def ErrorFunc(X,Y,zeta,m):\n",
        "   \n",
        "    n = len(X[0]) #number of attributes   \n",
        "    h=np.dot(X,zeta) #predictions\n",
        "\n",
        "    return 0.5*sum((h-Y)**2)/m #MSE"
      ],
      "execution_count": 379,
      "outputs": []
    },
    {
      "cell_type": "code",
      "metadata": {
        "id": "_Sv9XGZZruZ_",
        "colab_type": "code",
        "colab": {}
      },
      "source": [
        "def enhanced_GD(X,Y,alpha_rate,zeta,m,it):\n",
        "  temp=zeta    \n",
        "  n=len(X[0])\n",
        "  k=0\n",
        "  #alpha_rate=st/m\n",
        "  eps=1e-7\n",
        "  v=[0]*n\n",
        "  for k in range(it):\n",
        "      er=(X.dot(zeta)-Y_v).T\n",
        "      \n",
        "      for j in range(n):\n",
        "          gradient=er.dot(X[:,j])/m\n",
        "         \n",
        "          v[j]=v[j]+gradient**2\n",
        "          temp[j]=zeta[j]-(alpha_rate/np.sqrt(v[j]+eps))*gradient\n",
        "      #print(k,v)\n",
        "      zeta=temp\n",
        "\n",
        "      #error_record_enhancement.append(ErrorFunc(X,Y,zeta,m))\n",
        "      #error_step=error_record_enhancement[k]-error_record_enhancement[k-1]\n",
        "      #if(abs(error_step)<alpha_rate or error_step<0):\n",
        "        #break\n",
        "\n",
        "  return zeta"
      ],
      "execution_count": 380,
      "outputs": []
    },
    {
      "cell_type": "code",
      "metadata": {
        "id": "O9imRRP2vT_d",
        "colab_type": "code",
        "colab": {}
      },
      "source": [
        "def grad_w(w, b, x, y):\n",
        "  return (w*x+b-y)*x/4\n",
        "\n",
        "def grad_b(w, b, x, y):\n",
        "  return (w*x+b-y)/4\n",
        "\n",
        "def do_adagrad(X,Y):\n",
        "    w, b, eta = 1, 0, 0.01\n",
        "    v_w, v_b, eps = 0, 0, 1e-7\n",
        "    for i in range(10):\n",
        "        dw, db = 0, 0\n",
        "        for x,y in zip(X,Y):\n",
        "            dw += grad_w(w, b, x, y)\n",
        "            db += grad_b(w, b, x, y)\n",
        "        \n",
        "        v_w = v_w + dw**2\n",
        "        v_b = v_b + db**2\n",
        "        #print(i,v_b,v_w)\n",
        "        w = w - (eta/np.sqrt(v_w + eps)) * dw\n",
        "        b = b - (eta/np.sqrt(v_b + eps)) * db\n",
        "    return [b,w]"
      ],
      "execution_count": 381,
      "outputs": []
    },
    {
      "cell_type": "code",
      "metadata": {
        "id": "I5eLe0uVn6ha",
        "colab_type": "code",
        "colab": {
          "base_uri": "https://localhost:8080/",
          "height": 1000
        },
        "outputId": "f42dccb9-0025-4f3b-d16a-c79db6cb338e"
      },
      "source": [
        "#e=ErrorFunc(X_v,Y_v,zeta,nobs)\n",
        "#theta1=vanilla_GD(X_v,Y_v,learning_rate,zeta,nobs,iters)\n",
        "#print(e)\n",
        "#print(theta1)\n",
        "#print(error_record)\n",
        "\n",
        "theta2=enhanced_GD(X_v,Y_v,learning_rate,zeta,nobs,iters)\n",
        "print(theta2)\n",
        "\n",
        "print()\n",
        "#print(error_record_enhancement)\n",
        "\n",
        "print(do_adagrad(X,Y))\n",
        "\n",
        "slope, intercept, r_value, p_value, std_err = stats.linregress(X, Y)\n",
        "\n",
        "print(intercept,slope)\n"
      ],
      "execution_count": 382,
      "outputs": [
        {
          "output_type": "stream",
          "text": [
            "0 [0.0, 2.25]\n",
            "1 [0.00039999998222222386, 4.3092250041455555]\n",
            "2 [0.0009677161803054727, 6.297506830222128]\n",
            "3 [0.0017187903708246906, 8.226436829233332]\n",
            "4 [0.002647827224243091, 10.104994153457191]\n",
            "5 [0.0037487478136816682, 11.939462729761562]\n",
            "6 [0.005016148993013991, 13.734487027536582]\n",
            "7 [0.006445321718845554, 15.493663745969386]\n",
            "8 [0.0080321266715041, 17.21987862288602]\n",
            "9 [0.009772878639462761, 18.91551069011604]\n",
            "10 [0.011664256583862612, 20.5825634705515]\n",
            "11 [0.013703235734989395, 22.22275335117781]\n",
            "12 [0.015887036129178637, 23.837571478037002]\n",
            "13 [0.01821308308271163, 25.42832852887181]\n",
            "14 [0.02067897635421935, 26.99618798825302]\n",
            "15 [0.023282465708107193, 28.542191451855274]\n",
            "16 [0.02602143126531161, 30.067278251920825]\n",
            "17 [0.028893867490414782, 31.572300940390356]\n",
            "18 [0.03189786998239946, 33.05803768777152]\n",
            "19 [0.035031624457449, 34.52520234373932]\n",
            "20 [0.03829339746791176, 35.974452696482025]\n",
            "21 [0.04168152851279818, 37.406397324576034]\n",
            "22 [0.0451944232758152, 38.82160133495397]\n",
            "23 [0.048830547786211785, 40.220591209091]\n",
            "24 [0.05258842334185049, 41.60385892775221]\n",
            "25 [0.05646662206720747, 42.971865506535515]\n",
            "26 [0.060463763004398964, 44.32504404600982]\n",
            "27 [0.06457850865491745, 45.66380237876237]\n",
            "28 [0.06880956190502131, 46.98852537924447]\n",
            "29 [0.07315566327972249, 48.29957698961547]\n",
            "30 [0.0776155884798402, 49.59730200488345]\n",
            "31 [0.08218814616420721, 50.882027652845245]\n",
            "32 [0.0868721759452586, 52.15406499813723]\n",
            "33 [0.09166654657122089, 53.413710194753605]\n",
            "34 [0.0965701542721988, 54.66124560739327]\n",
            "35 [0.10158192125081393, 55.89694081875291]\n",
            "36 [0.10670079430082739, 57.12105353723321]\n",
            "37 [0.11192574353949335, 58.33383041734605]\n",
            "38 [0.11725576124132599, 59.535507803308704]\n",
            "39 [0.12268986076259189, 60.72631240481317]\n",
            "40 [0.12822707554721746, 61.90646191270724]\n",
            "41 [0.13386645820596987, 63.076165561273136]\n",
            "42 [0.13960707966176802, 64.235624642903]\n",
            "43 [0.14544802835483375, 65.38503298022007]\n",
            "44 [0.151388409502128, 66.52457736005528]\n",
            "45 [0.1574273444061505, 67.65443793314402]\n",
            "46 [0.1635639698087294, 68.77478858294019]\n",
            "47 [0.16979743728590524, 69.8857972665422]\n",
            "48 [0.17612691268042815, 70.98762633037917]\n",
            "49 [0.1825515755687513, 72.08043280300438]\n",
            "50 [0.1890706187597217, 73.16436866708217]\n",
            "51 [0.19568324782245003, 74.23958111242703]\n",
            "52 [0.2023886806410884, 75.30621277175494]\n",
            "53 [0.20918614699446314, 76.36440194063259]\n",
            "54 [0.21607488815870385, 77.41428278295754]\n",
            "55 [0.22305415653118132, 78.45598552316736]\n",
            "56 [0.2301232152742209, 79.48963662625697]\n",
            "57 [0.23728133797719425, 80.51535896657826]\n",
            "58 [0.24452780833571514, 81.53327198630268]\n",
            "59 [0.25186191984677375, 82.54349184434437]\n",
            "60 [0.2592829755187435, 83.54613155646793]\n",
            "61 [0.26679028759528245, 84.54130112723848]\n",
            "62 [0.27438317729223094, 85.52910767441334]\n",
            "63 [0.28206097454668033, 86.50965554632103]\n",
            "64 [0.2898230177774512, 87.4830464327268]\n",
            "65 [0.29766865365628054, 88.44937946964048]\n",
            "66 [0.3055972368890698, 89.40875133848456]\n",
            "67 [0.3136081300065943, 90.36125636000564]\n",
            "68 [0.32170070316412047, 91.30698658328089]\n",
            "69 [0.32987433394941595, 92.24603187014326]\n",
            "70 [0.33812840719867604, 93.17847997532314]\n",
            "71 [0.34646231481992307, 94.10441662258111]\n",
            "72 [0.35487545562346645, 95.02392557708502]\n",
            "73 [0.36336723515903946, 95.9370887142657]\n",
            "74 [0.3719370655592554, 96.84398608536765]\n",
            "75 [0.3805843653890483, 97.74469597989541]\n",
            "76 [0.38930855950078763, 98.6392949851413]\n",
            "77 [0.39810907889477465, 99.52785804296713]\n",
            "78 [0.40698536058484774, 100.41045850399992]\n",
            "79 [0.4159368474688417, 101.28716817939079]\n",
            "80 [0.4249629882036609, 102.15805739027542]\n",
            "81 [0.4340632370847422, 103.02319501506518]\n",
            "82 [0.4432370539296962, 103.88264853468952]\n",
            "83 [0.4524839039659289, 104.73648407590164]\n",
            "84 [0.46180325772205716, 105.58476645275252]\n",
            "85 [0.47119459092294214, 106.42755920633128]\n",
            "86 [0.4806573843881758, 107.26492464286368]\n",
            "87 [0.49019112393386444, 108.09692387025441]\n",
            "88 [0.49979530027756236, 108.92361683315397]\n",
            "89 [0.5094694089462165, 109.74506234662512]\n",
            "90 [0.5192129501869911, 110.56131812848011]\n",
            "91 [0.5290254288808486, 111.37244083035493]\n",
            "92 [0.5389063544587697, 112.17848606758304]\n",
            "93 [0.5488552408205006, 112.97950844792734]\n",
            "94 [0.5588716062557237, 113.77556159922574]\n",
            "95 [0.568954973367551, 114.56669819600215]\n",
            "96 [0.579104868998246, 115.35296998509214]\n",
            "97 [0.5893208241570858, 116.13442781032936]\n",
            "98 [0.5996023739502755, 116.91112163633629]\n",
            "99 [0.6099490575128371, 117.68310057146067]\n",
            "[0.23393529 0.83201432]\n",
            "\n",
            "0 0.0 2.25\n",
            "1 0.00039999998222222386 4.3092250041455555\n",
            "2 0.0009677161803054727 6.297506830222128\n",
            "3 0.0017187903708246906 8.226436829233332\n",
            "4 0.002647827224243091 10.104994153457191\n",
            "5 0.0037487478136816682 11.939462729761562\n",
            "6 0.005016148993013991 13.734487027536582\n",
            "7 0.006445321718845556 15.493663745969386\n",
            "8 0.008032126671504103 17.21987862288602\n",
            "9 0.009772878639462764 18.91551069011604\n",
            "[0.05401087939870746, 0.9512495726920049]\n",
            "1.2 0.4\n"
          ],
          "name": "stdout"
        }
      ]
    },
    {
      "cell_type": "code",
      "metadata": {
        "id": "Mibrgnyr4cuP",
        "colab_type": "code",
        "colab": {
          "base_uri": "https://localhost:8080/",
          "height": 578
        },
        "outputId": "49ff6b3c-eb8f-42a7-c2b1-bc761be99986"
      },
      "source": [
        "import collections\n",
        "url='https://raw.githubusercontent.com/rsrjohnson/CS6375/master/SeoulBikeData.csv'\n",
        "raw_data = pd.read_csv(url,sep=\",\",encoding= 'unicode_escape')\n",
        "\n",
        "raw_data.isnull().sum()\n",
        "\n",
        "print(raw_data.dtypes)\n",
        "\n",
        "raw_data.head()\n",
        "\n",
        "\n",
        "obj_df = raw_data.select_dtypes(include=['object']).copy()\n",
        "print(obj_df['Holiday'].value_counts())\n",
        "print(collections.Counter(obj_df['Holiday']))\n",
        "\n",
        "working_data=raw_data\n",
        "#working_data.drop(columns=['Date'],inplace=True)\n",
        "del working_data['Date']\n",
        "del obj_df['Date']\n",
        "for attr in obj_df.keys(): \n",
        "  obj_df[attr] = obj_df[attr].astype('category')\n",
        "  obj_df[attr] = obj_df[attr].cat.codes\n",
        "  working_data[attr]=obj_df[attr]\n",
        "\n",
        "\n",
        "working_data.head()\n",
        "\n",
        "working_data.dtypes\n"
      ],
      "execution_count": 383,
      "outputs": [
        {
          "output_type": "stream",
          "text": [
            "Date                          object\n",
            "Rented Bike Count              int64\n",
            "Hour                           int64\n",
            "Temperature(°C)              float64\n",
            "Humidity(%)                    int64\n",
            "Wind speed (m/s)             float64\n",
            "Visibility (10m)               int64\n",
            "Dew point temperature(°C)    float64\n",
            "Solar Radiation (MJ/m2)      float64\n",
            "Rainfall(mm)                 float64\n",
            "Snowfall (cm)                float64\n",
            "Seasons                       object\n",
            "Holiday                       object\n",
            "Functioning Day               object\n",
            "dtype: object\n",
            "No Holiday    8328\n",
            "Holiday        432\n",
            "Name: Holiday, dtype: int64\n",
            "Counter({'No Holiday': 8328, 'Holiday': 432})\n"
          ],
          "name": "stdout"
        },
        {
          "output_type": "execute_result",
          "data": {
            "text/plain": [
              "Rented Bike Count              int64\n",
              "Hour                           int64\n",
              "Temperature(°C)              float64\n",
              "Humidity(%)                    int64\n",
              "Wind speed (m/s)             float64\n",
              "Visibility (10m)               int64\n",
              "Dew point temperature(°C)    float64\n",
              "Solar Radiation (MJ/m2)      float64\n",
              "Rainfall(mm)                 float64\n",
              "Snowfall (cm)                float64\n",
              "Seasons                         int8\n",
              "Holiday                         int8\n",
              "Functioning Day                 int8\n",
              "dtype: object"
            ]
          },
          "metadata": {
            "tags": []
          },
          "execution_count": 383
        }
      ]
    },
    {
      "cell_type": "code",
      "metadata": {
        "id": "IXU7IRghTb7_",
        "colab_type": "code",
        "colab": {}
      },
      "source": [
        "from sklearn.model_selection import train_test_split\n",
        "from sklearn.linear_model import LinearRegression\n",
        "from sklearn.metrics import mean_squared_error\n",
        "from sklearn.metrics import r2_score\n",
        "\n"
      ],
      "execution_count": 384,
      "outputs": []
    },
    {
      "cell_type": "code",
      "metadata": {
        "id": "IuRbvCZ_wF0s",
        "colab_type": "code",
        "colab": {
          "base_uri": "https://localhost:8080/",
          "height": 255
        },
        "outputId": "be481f07-c036-4983-f2ef-30e88b32f6a6"
      },
      "source": [
        "import requests\n",
        "from bs4 import BeautifulSoup\n",
        "\n",
        "website='https://www.worldometers.info/coronavirus/#countries'\n",
        "website_url=requests.get(website).text\n",
        "soup = BeautifulSoup(website_url,'html.parser')\n",
        "\n",
        "my_table = soup.find('tbody')\n",
        "\n",
        "table_data = []\n",
        "for row in my_table.findAll('tr'):\n",
        "    row_data = []\n",
        "    for cell in row.findAll('td'):\n",
        "        row_data.append(cell.text)\n",
        "    if(len(row_data) > 0):\n",
        "        data_item = {\"Country\": row_data[0],\n",
        "                     \"TotalCases\": row_data[1],\n",
        "                     \"NewCases\": row_data[2],\n",
        "                     \"TotalDeaths\": row_data[3],\n",
        "                     \"NewDeaths\": row_data[4],\n",
        "                     \"TotalRecovered\": row_data[5],\n",
        "                     \"ActiveCases\": row_data[6],\n",
        "                     \"CriticalCases\": row_data[7],\n",
        "                     \"Totcase1M\": row_data[8],\n",
        "                     \"Totdeath1M\": row_data[9],\n",
        "                     \"TotalTests\": row_data[10],\n",
        "                     \"Tottest1M\": row_data[11],\n",
        "        }\n",
        "        table_data.append(data_item)\n",
        "df = pd.DataFrame(table_data)\n",
        "\n",
        "print(df)"
      ],
      "execution_count": 385,
      "outputs": [
        {
          "output_type": "stream",
          "text": [
            "    Country             TotalCases   NewCases  ... Totdeath1M TotalTests Tottest1M\n",
            "0                \\nNorth America\\n  7,580,748  ...     19,253                     \n",
            "1                \\nSouth America\\n  6,624,039  ...     15,341                     \n",
            "2                         \\nAsia\\n  7,528,133  ...     18,925                     \n",
            "3                       \\nEurope\\n  3,746,023  ...      5,931                     \n",
            "4                       \\nAfrica\\n  1,289,817  ...      1,418                     \n",
            "..      ...                    ...        ...  ...        ...        ...       ...\n",
            "218     211         Western Sahara         10  ...                    17         2\n",
            "219     212             MS Zaandam          9  ...                                \n",
            "220     213  Saint Pierre Miquelon          5  ...                   864          \n",
            "221     214               Anguilla          3  ...                   200          \n",
            "222     215                  China     85,112  ...          3         59         3\n",
            "\n",
            "[223 rows x 12 columns]\n"
          ],
          "name": "stdout"
        }
      ]
    },
    {
      "cell_type": "code",
      "metadata": {
        "id": "HvWW45vsuo8w",
        "colab_type": "code",
        "colab": {
          "base_uri": "https://localhost:8080/",
          "height": 51
        },
        "outputId": "44bd3417-637c-4025-f5af-aee86406de77"
      },
      "source": [
        "import requests\n",
        "\n",
        "link = \"http://www.somesite.com/details.pl?urn=2344\"\n",
        "f = requests.get(link)\n",
        "print(f.text)"
      ],
      "execution_count": 386,
      "outputs": [
        {
          "output_type": "stream",
          "text": [
            "<h1>404: Not Found</h1>\n",
            "\n"
          ],
          "name": "stdout"
        }
      ]
    },
    {
      "cell_type": "code",
      "metadata": {
        "id": "JLcf1ToQu8zK",
        "colab_type": "code",
        "colab": {
          "base_uri": "https://localhost:8080/",
          "height": 394
        },
        "outputId": "32f928c8-2421-435f-a8a5-b349c05d39eb"
      },
      "source": [
        "import urllib.request\n",
        "urlcode=\"https://utdallas.app.box.com/file/715664638287?s=p3lf7rhfvx4qig5d8r2s4seu9n86shp5\"\n",
        "try:\n",
        "   with urllib.request.urlopen(urlcode) as f:\n",
        "      data=f.read().decode('utf-8')\n",
        "except urllib.error.URLError as e:\n",
        "   print(e.reason)\n",
        "print(data)\n",
        "\n"
      ],
      "execution_count": 387,
      "outputs": [
        {
          "output_type": "stream",
          "text": [
            " <!DOCTYPE html><html lang=\"en-US\" data-resin-client=\"web\"><head><meta http-equiv=\"X-UA-Compatible\" content=\"IE=edge\"><meta name=\"viewport\" content=\"width=device-width, initial-scale=1.0\"><meta name=\"robots\" content=\"noindex, nofollow\"><title>Box</title> <link rel=\"stylesheet\" href=\"https://cdn01.boxcdn.net/fonts/1.0.2/lato/Lato-woff.css\"> <link rel=\"stylesheet\" href=\"https://cdn01.boxcdn.net/enduser/app.22d97ae5f3.css\">  <link rel=\"apple-touch-icon\" sizes=\"57x57\" href=\"https://cdn01.boxcdn.net/_assets/img/favicons/apple-touch-icon-57x57-fLlEpj.png\">\n",
            "<link rel=\"apple-touch-icon\" sizes=\"60x60\" href=\"https://cdn01.boxcdn.net/_assets/img/favicons/apple-touch-icon-60x60-Uv0qzu.png\">\n",
            "<link rel=\"apple-touch-icon\" sizes=\"72x72\" href=\"https://cdn01.boxcdn.net/_assets/img/favicons/apple-touch-icon-72x72-7aVqne.png\">\n",
            "<link rel=\"apple-touch-icon\" sizes=\"76x76\" href=\"https://cdn01.boxcdn.net/_assets/img/favicons/apple-touch-icon-76x76-ZVGnRV.png\">\n",
            "<link rel=\"apple-touch-icon\" sizes=\"114x114\" href=\"https://cdn01.boxcdn.net/_assets/img/favicons/apple-touch-icon-114x114-busq-D.png\">\n",
            "<link rel=\"apple-touch-icon\" sizes=\"120x120\" href=\"https://cdn01.boxcdn.net/_assets/img/favicons/apple-touch-icon-120x120-K-u4U5.png\">\n",
            "<link rel=\"apple-touch-icon\" sizes=\"144x144\" href=\"https://cdn01.boxcdn.net/_assets/img/favicons/apple-touch-icon-144x144-va9pYs.png\">\n",
            "<link rel=\"apple-touch-icon\" sizes=\"152x152\" href=\"https://cdn01.boxcdn.net/_assets/img/favicons/apple-touch-icon-152x152-r5tWgh.png\">\n",
            "<link rel=\"apple-touch-icon\" sizes=\"180x180\" href=\"https://cdn01.boxcdn.net/_assets/img/favicons/apple-touch-icon-180x180-tV001c.png\">\n",
            "<link rel=\"icon\" type=\"image/png\" href=\"https://cdn01.boxcdn.net/_assets/img/favicons/favicon-32x32-VwW37b.png\" data-notification-icon-href=\"https://cdn01.boxcdn.net/_assets/img/favicons/notification-favicon-32x32-brwW_W.png\" sizes=\"32x32\">\n",
            "<link rel=\"icon\" type=\"image/png\" href=\"https://cdn01.boxcdn.net/_assets/img/favicons/android-chrome-192x192-96i97M.png\" sizes=\"192x192\">\n",
            "<link rel=\"icon\" type=\"image/png\" href=\"https://cdn01.boxcdn.net/_assets/img/favicons/favicon-96x96-XU7UE1.png\" data-notification-icon-href=\"https://cdn01.boxcdn.net/_assets/img/favicons/notification-favicon-96x96-TOQ9Kg.png\" sizes=\"96x96\">\n",
            "<link rel=\"icon\" type=\"image/png\" href=\"https://cdn01.boxcdn.net/_assets/img/favicons/favicon-16x16-_kQSW4.png\" data-notification-icon-href=\"https://cdn01.boxcdn.net/_assets/img/favicons/notification-favicon-16x16-Ou5N87.png\" sizes=\"16x16\">\n",
            "<link rel=\"manifest\" href=\"https://cdn01.boxcdn.net/_assets/img/favicons/manifest-rw1AEP.json\">\n",
            "<link rel=\"mask-icon\" href=\"https://cdn01.boxcdn.net/_assets/img/favicons/safari-pinned-tab-jyt2W4.svg\">\n",
            "<link rel=\"shortcut icon\" href=\"https://cdn01.boxcdn.net/_assets/img/favicons/favicon-yz-tj-.ico\" data-notification-icon-href=\"https://cdn01.boxcdn.net/_assets/img/favicons/notification-favicon-EHWWyP.ico\">\n",
            "<meta name=\"msapplication-TileColor\" content=\"#da532c\">\n",
            "<meta name=\"msapplication-TileImage\" content=\"https://cdn01.boxcdn.net/_assets/img/favicons/mstile-144x144-pllCM8.png\">\n",
            "<meta name=\"msapplication-config\" content=\"https://cdn01.boxcdn.net/_assets/img/favicons/browserconfig-fdBReK.xml\">\n",
            "<meta name=\"theme-color\" content=\"#ffffff\">\n",
            "</head><body class=\"is-loading \" data-resin-application=\"files\">  <noscript><div class=\"noscript-warning\"> JavaScript is currently disabled in your browser. You must have JavaScript enabled to take full advantage of Box.</div></noscript><div id=\"app\" class=\"react-container\"></div><script>window.Box = window.Box || {};   Box.prefetchedData = {\"\\/app-api\\/enduserapp\\/current-user\":{\"id\":2,\"name\":null,\"email\":null,\"language\":\"en-US\",\"locale\":\"en-US\",\"countryCode\":\"TW\",\"hasAvatar\":false,\"avatarURLs\":{\"small\":\"https:\\/\\/cdn01.boxcdn.net\\/_assets\\/img\\/box\\/box_user_avatar_small-QaPHWb.png\",\"large\":\"https:\\/\\/cdn01.boxcdn.net\\/_assets\\/img\\/box\\/box_user_avatar_large-M9h6O2.png\",\"preview\":\"https:\\/\\/cdn01.boxcdn.net\\/_assets\\/img\\/box\\/box_user_avatar_preview-y_etx-.png\"},\"isAdmin\":false,\"isCoAdmin\":false,\"isGroupAdmin\":false,\"isDeveloper\":false,\"isInstantLoggedIn\":false,\"isLoggedIn\":false,\"isDemoAccount\":false,\"isDemoEnvironmentV2\":false,\"loginPage\":null,\"maxFileSizeAsString\":\"0 B\",\"realtimeSubscriberID\":\"v948nzgifqoja7sd\",\"storageAmountAsString\":\"0 B\",\"storageRemainingAsString\":\"0 B\",\"hasUnlimitedStorage\":false,\"tier\":null,\"boxToolsDownloadURL\":\"https:\\/\\/e3.boxcdn.net\\/box-installers\\/boxedit\\/win\\/currentrelease\\/BoxToolsInstaller.exe\",\"accountHost\":\"https:\\/\\/utdallas.account.box.com\",\"apiHost\":\"https:\\/\\/api.box.com\\/\",\"enterprise\":[],\"theme\":{\"id\":1,\"isDefaultTheme\":true,\"primaryColor\":\"#0061D5\",\"logoURLs\":{\"small\":null,\"large\":null,\"preview\":null,\"xsmall\":null,\"xsmall2x\":null,\"xsmall3x\":null},\"logo2URLs\":{\"small\":null,\"large\":null,\"preview\":null,\"xsmall\":null,\"xsmall2x\":null,\"xsmall3x\":null}},\"footer\":{\"footerText\":\"\",\"footerLinkText\":\"\",\"footerLinkUrl\":\"\"},\"support\":{\"phone\":\"\",\"email\":\"\",\"url\":\"\\/help\"},\"account\":{\"canEndTrial\":false,\"canUpgrade\":false,\"hasPaymentSystem\":false,\"isInUpgradeTrial\":false,\"isOnTrial\":false,\"isPaymentBlocked\":false},\"features\":{\"adminConsole\":false,\"autoClassification\":false,\"automations\":\"\",\"boxEdit\":true,\"classification\":false,\"classificationV2\":false,\"collections\":false,\"developerConsole\":false,\"feed\":false,\"feedAccessStats\":false,\"fileRequestEnabled\":false,\"fileRequestAllowEditorsEnabled\":false,\"googleDSSFeatureFlip\":true,\"metadata\":false,\"notes\":true,\"openWithProgram\":true,\"ownedByMe\":false,\"previewAnnotations\":false,\"reactFilesPageFF\":false,\"recents\":true,\"relayEnterpriseLevel\":\"\",\"relayUserLevel\":\"\",\"relayAllowEditorsAsBuilders\":false,\"sfc\":false,\"sfcShare\":false,\"sharedWithMe\":false,\"sync\":false,\"tags\":false,\"trash\":true,\"updatesPage\":true,\"shield\":false,\"shieldTrial\":false},\"relayFeatures\":{\"newUserEnablement\":false,\"manualStartSingleFile\":false,\"manualStartMultiFile\":false,\"autoCollabTasks\":false,\"defaultOnManagedUsers\":false,\"customTemplates\":false,\"fileRequestAuthentication\":false},\"experiments\":{\"fileRequest\":true,\"ghostState\":true,\"eua_experiment_defer_preview_preload_return_page\":true},\"preview\":{\"apiHost\":\"https:\\/\\/api.box.com\\/\",\"appHost\":\"https:\\/\\/utdallas.app.box.com\\/\",\"staticHost\":\"https:\\/\\/cdn01.boxcdn.net\\/\",\"staticPath\":\"platform\\/preview\",\"version\":\"2.49.1\",\"tokenTimeout\":3600,\"preloadEnabled\":true,\"annotationsEnabled\":false,\"excelOnlineEnabled\":false,\"excelOnlineAllowedMaxFileSize\":52428800,\"thumbnailsEnabled\":false},\"userPreferences\":{\"columnWidths\":[],\"view\":\"list\",\"viewSize\":3}}};    Box.postStreamURLs = [\"\\/app-api\\/enduserapp\\/shared-item\",\"\\/app-api\\/enduserapp\\/item\\/f_715664638287\"];   Box.webpackPublicPath = 'https://cdn01.boxcdn.net/enduser/';   Box.config = {\"clientGeoCountryCode\":\"TW\",\"currentRm\":\"enduserapp_shared_item_page\",\"datacenterTag\":\"lv7\",\"requestId\":\"v948nzgifqoja7sd\",\"requestToken\":\"d62d398ed5221d1ebb372850d3584f147a971c30a8a6d1e6db872a1ea4fea7f4\",\"consoleLoggingEnabled\":false,\"debug\":false,\"isBoxEditFallbackEnabled\":false,\"isBoxToolsLoggingEnabled\":false,\"isBoxToolsV3EolEnabled\":true,\"isIEMixedModeEnabled\":false,\"isMSEdgeSupportForBoxEditEnabled\":true,\"isSandbox\":false,\"logJSErrorsEnabled\":false,\"shouldUseActiveXObjectJSRef\":false,\"useUnSecureUrlForComServer\":false};</script> <script src=\"https://cdn01.boxcdn.net/enduser/runtime.4993519ef4.js\" type=\"text/javascript\" crossorigin=\"anonymous\"></script> <script src=\"https://cdn01.boxcdn.net/enduser/vendors~app.732afda110.js\" type=\"text/javascript\" crossorigin=\"anonymous\"></script> <script src=\"https://cdn01.boxcdn.net/enduser/lang-en-AU~lang-en-CA~lang-en-GB~lang-en-US~lang-en-x-pseudo.57dba5f597.js\" type=\"text/javascript\" crossorigin=\"anonymous\"></script> <script src=\"https://cdn01.boxcdn.net/enduser/lang-en-US.015829a170.js\" type=\"text/javascript\" crossorigin=\"anonymous\"></script> <script src=\"https://cdn01.boxcdn.net/enduser/app.e7ad007069.js\" type=\"text/javascript\" crossorigin=\"anonymous\"></script>   <script> Box.postStreamData = {\"\\/app-api\\/enduserapp\\/shared-item\":{\"sharedName\":\"p3lf7rhfvx4qig5d8r2s4seu9n86shp5\",\"vanityName\":\"\",\"itemID\":715664638287,\"itemType\":\"file\"},\"\\/app-api\\/enduserapp\\/item\\/f_715664638287\":{\"items\":[{\"typedID\":\"f_715664638287\",\"type\":\"file\",\"id\":715664638287,\"description\":\"\",\"extension\":\"csv\",\"name\":\"SeoulBikeData.csv\",\"itemSize\":604166,\"userID\":6086841946,\"iconType\":\"spreadsheet\",\"canDownload\":true,\"isDownloadBlockedByShieldAccessPolicy\":false,\"isDownloadBlockedByShieldMaliciousContentPolicy\":false,\"ownerEnterpriseID\":512311,\"versionCount\":0,\"canUserSeeClassification\":false,\"canUserEditClassification\":false,\"classification\":\"\",\"bannerPolicy\":null,\"isWatermarkedDownloadAvailable\":false,\"isBox3DPackageSupported\":false,\"previewSidebarEnabled\":false}],\"theme\":{\"id\":1657198944,\"isDefaultTheme\":false,\"primaryColor\":\"#154734\",\"logoURLs\":{\"small\":\"https:\\/\\/utdallas.app.box.com\\/index.php?rm=pic_storage_auth&pic=euks!pac3kv01!o5Kiv5MkT5BPXsCmZahzDnYBjranPZXOAGWnPQlLN7j5RSR7vQzstCMAtiBsE9elrAi7qos8sASAMZ1B_zC2grERwvW-8S5pRLbG9HyBx5hCv4v30CfFP8AVubxvKLGMqMbYFoytByYm-R2ZmIX761-hsVUbQC3qqg8DmP1qrpmfdpVf-yZd__jBkhCWj94NVyR0XIXceMmp1_l4soXwITuqijJN6Ie91KQkaDQWO1XrWj6cLyKKJw39GxN10Kj__qJc4KaW676DXF7v0SSKEfdB027GHkQ0oczuOzYse7lImTfIl4bkPB-6hpnBIiqjQAagwsOl1arNiGX8f0Y.\",\"large\":\"https:\\/\\/utdallas.app.box.com\\/index.php?rm=pic_storage_auth&pic=euks!pac3kv01!vsATAEsDUoODnYgVl1p2ieCdRo8oAfQb_IwgC5IfPziZE8O2Z6icKU4FGhtgXnSXc5z1VAj4TOsrJW32WnHN23f6l_4CC9PwXMO3Kd5P1PiyCZhqe6X9zf6LkWjGsPWee3OSrFP_v4BW8a7-JKlnFcVh3Fx8X1Z5yr0XNQWOs5i45jYCmvdFLHxp2AGAeUaLvrbom-F7cWcgG8bdKtayQImaANm4tAjRT48tP3JzvDpvOWKTeVE1EscT-YDZ2u7iOStIaQM3U0ZFhP8-SndKKbhB3LsqsjcsswIJ_f-r-8LC7ZblbCig-U-FTVmKfuanzQ6q8cI2ErR33zmS6SE.\",\"preview\":\"https:\\/\\/utdallas.app.box.com\\/index.php?rm=pic_storage_auth&pic=euks!pac3kv01!VYGp9cdk4ww3ifNk5tU-M1jbUL7us2SK67vwqGaAMtHjEZxTfzOLdGoVPBu6ETN76n4GiHBRexkDIIejsqwZr4palkvM2Tu9XFwZUxVSJ862T4oKPRDZfIlgk-oEFI2XYY7UZLvMLpaEwrzzSlC4PxOnqlZ2L2mD4mfJpcAd1gTlP9MiLzXltFX4d3W5oqZB6RQi_hqBSsn3oA8bdz5WtDYJ5s08goTrDo14RKncKzGsD2QA5rswAfs-XU3c8e6ZLwTXHseFPC8l33q4yZRG6y_MkJyQl5Jm-i72bq1JphrHeea6ZYBWO3RnHrjFnyx6X4WCTpjNCl93CgeGpe4X9g..\",\"xsmall\":\"https:\\/\\/utdallas.app.box.com\\/index.php?rm=pic_storage_auth&pic=euks!pac3kv01!QO5DUG_XdCqxrzYs0OAuteOkRFcT6-fBtE6hTL3kmIIdUzzgVEcsBqhLmeRfb3TuBVRDR5MYcOMUlVkw3gK_MF3aBbKLhWBxn_zLkSbOCxItcTDbhUEIEXW45GhYWrIGqgrB61OfhsQSDLCfE-LdsYrGeiz20W0vOSC2g02PmOaVyS2h_TIBJ53fTQq3kLA7BtFcdmC5mKKspQt8hCiAWEUJzHh2DDXYsE1JAK_SFduxGTBGhTNNNTNzX-iZKExK2imQZOH4g5O4ulX1pV3ccGwOaTQnncyTmmYf1mPwcf1KDY45GpuSCuPhVdGRN0pMhzg2I8PQ0Va38PCggw..\",\"xsmall2x\":\"https:\\/\\/utdallas.app.box.com\\/index.php?rm=pic_storage_auth&pic=euks!pac3kv01!PdQJ81dOIXsaaGk-HZQAnkubuUIYYYcRWYcG6leN2hPxzgVztTr_OH4fi7u4ojXD-7LGgu-C_dgyozVePmCCd0TAX6HokifNcpax-KHUir7FsC5ohREJrCIx5zfAwUQt4WSIdDDNCm_HS2IOMDEoZmSZKQzAvDy9EKMtnRKm4fXK_ChB63kKAop3TxnP6UAfhPdsMUwmSXyI9oxeTv_ev6r811VM03DHnBOoEmuCh3wKkD_SrAh_MzcoDkMzvmQ6UphyYj8ysHHU0G0243yejxqp_FWg-MZHAT0-wESDsV5haQdyNfCoTvl0rajBt4vRAxna76S328FwV8uQfZ4y\",\"xsmall3x\":\"https:\\/\\/utdallas.app.box.com\\/index.php?rm=pic_storage_auth&pic=euks!pac3kv01!_U9wnH9PDHn_U0rPELY8puPxQp9MzULlSf2bOuAP8H-AcYYyatOUqkHss2DI_ct09tVkAbfLCiQyJBWt9n1E-XK-Q756JDTZNQsYnIjnQO59d702IHcMKTwBEw-ZyOup-6fk2dtAME5KsUlgvvPXo7Cxo-LfycDLAb4Q7Eajc1jUbIS_xVscbWDM109C4dLAzvWAWj08jCO58cQ5SOA5pp6964aOTCt7_uNIntKUr6Qoml5vaeGoVlbNcuUn1rzsjl2Xi11lO0zgeQPE0Jf8MlYcp9115TWko4TcmA4mucFmDqqvTs4xo8EQTkqZ31NjIxRtC1_ScTy3URWWuPYy\"},\"logo2URLs\":{\"small\":\"https:\\/\\/utdallas.app.box.com\\/index.php?rm=pic_storage_auth&pic=euks!pac3kv01!TvjWsRgcu06qlFzhDb2et067LwsPZA7PeZR5qoCuVzT9TTJp0NVg69Kj0uS8vaFncbWtNOjBsx5huHY0m_2nsx1JhoAUoDeGQvDRsAo4-cAwjkEMD0EKK5k0p30c1A0zZI8c_YqmY9I-R9BZ9QBqjZdJ8hlpKFCYtk7atpKk7LQS1Wdm8coeG1BXoNjpeOue20fQgt9LFpfgUBGXkCL_CNmb5DROwvAdC9gg0zQVBy55FK834hztt3YufkWzYilaUdq1aQpy7UeTtbqe2IXk6sL7TT1vDVOcIYhKkMX-o2-nPqVjpuX7P_HLO9_MSuNTPn-W7XveOakqT7PJ\",\"large\":\"https:\\/\\/utdallas.app.box.com\\/index.php?rm=pic_storage_auth&pic=euks!pac3kv01!xrWitty1Y_T87dbYfroCNn4aX9cNcYIoZax233_pamFi_Ff9c146q5DK4tLncB3hGqM9N8ZDPY6meIADgfpVqlWwPtQSKqBQv9zckWFCsEH2JoQNwqlNjlqsh6nyqXEWJIlM5OFMXvXw79_zudbuT2JPVmo-90QJZ6uJv4G0lLIInLjtIynJOf4kIkcvF6mC3wbFD3Q-RxOJoFbmuWAT1zEBFPqVJ_oBYa-XgylzQHp8nBADzZw72CNG3Malg7N6l76u_eIIJ2MIl6l9cZz3R0zsgR2nfX-rQ-J4uEI-JoU66ePgsLeHtzFxiM8ZhlbZ6eSQjeFtcpHQCCaCVjHF7Q..\",\"preview\":\"https:\\/\\/utdallas.app.box.com\\/index.php?rm=pic_storage_auth&pic=euks!pac3kv01!wackDnMdrii2eSzACvCpvYp5ZafnDH4MY6y2S47aYtDeMfY4lh9BYD1itnIJx3yDYNaJYQ4s7Xds28Qw7hsPjE9AmU-mn_wTC21gT3VDUwtnpwI1YVXPIIXAkam2EVxRXykbmO2Z4vb5_ApkjKEdkfAiXv7My4DRrOTk_17efQyfKqOzIHd3n24krs7AljDm7tvRtO3T1lTTo1mhCfZvCAVw4xZRf7YBNGDvqr3XWa0i2-ZQqJqGJpFnw2hLJ1akKeX2MNmQFCl-u9et1sRy7yKwo_5JSbQPMMdaEGxzn5AXbZlKUfkhW6jtls6FQcLGNodPRyLRD2NLW5w3BNgJyA..\",\"xsmall\":\"https:\\/\\/utdallas.app.box.com\\/index.php?rm=pic_storage_auth&pic=euks!pac3kv01!-qGPOtWuWmiZMoxKv0zPBNLYxR80VBllQTl-05Wr72Xp4KjLlc_FqJHgMvgzNhKhXyC90oUSxmtNIOskNje9KQt0Rg3ZIleTw56-6MKxfUJ704eVoNiFmqan5tS5F9Wh0ux1NrtpOWgsb8-1-m369f3VXPaxaDTw4gd6fRNlH3s1731v7s3jZAti7ybQK0sDDvMFYPa5QYy01b6OHqgkEkCOJpT6Xzo6900rZZxMfCOKpphK-YTO7mC_H7VRUR28NvB0Xj1hZyRM9kYkSJXJ-o5o9lQoAlo_lZZYL8T9k9-Qw9m7OGHh_sPgVuekSwiohVTjgwVKryDC9KXOCQ..\",\"xsmall2x\":\"https:\\/\\/utdallas.app.box.com\\/index.php?rm=pic_storage_auth&pic=euks!pac3kv01!h4sPu0H_idAaRlT8AuEdkHBbXdV9qGohR3L8Xh94eLbPd6q42PUgr7RtmpLLa8Jal3UzWfzBn_DQDjdbcI40DebxXtMIYDcmBtJ0hLW402XbV0b_E6PFdSh1YOVmwdJAE0om0aJANNjx9WjvtejCFA30B1MldTa-TUq3fH71_UfpWZ1mtlfoPDklhvAmSeqafyahbMSMS_0DoJ9bGy-_C0CIXmZ1Tl0gDSpMxFEXpqZ_akogY1gjBzI7F8dtI3vAT3_vWsP9xg57wxmm2TiVZk3J0t82My2QY9DQKVaEeoFMgwNyfw54W7KJAS8ZX5RpWQW4AcgrtQUbBt7zO8uwEjg.\",\"xsmall3x\":\"https:\\/\\/utdallas.app.box.com\\/index.php?rm=pic_storage_auth&pic=euks!pac3kv01!3MoSDcLwfz8xy71YnTBkhGqb-SPpu1yqUMt--oCvPKXuBjyKEjRW3tBp-La_P0r1Rr897nGA-OUvy_jHhQIjZF1VndBLzKxc3JhfXjzwa5PQTMP6owq09o28huUCDC5tN-JvD62UiPez1DlZPtFPGSmlEZowyyyUN9hbbibnDTqtQEEyrIijqnDEbFWcoV-_WbnHAF8jYPaLeAdTWVkzZyDrnaieiBbF5cRChJ_obkvSYzRhMLEVjCEJc49LPRMbxHcwIBeYBeZXCWjlnqFzqF64goxD-ngUNk5rlffz68MbJxvI1tnIg353XtZlKX31Ti-nXHKee1XbjbVy3CHY\"}}}};</script></body></html>\n"
          ],
          "name": "stdout"
        }
      ]
    }
  ]
}